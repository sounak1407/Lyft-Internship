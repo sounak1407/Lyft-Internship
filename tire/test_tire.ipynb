{
 "cells": [
  {
   "cell_type": "code",
   "execution_count": 11,
   "id": "847d04ba",
   "metadata": {},
   "outputs": [
    {
     "name": "stderr",
     "output_type": "stream",
     "text": [
      "E\n",
      "======================================================================\n",
      "ERROR: test_tires_should_be_serviced (__main__.TestCarrigan)\n",
      "----------------------------------------------------------------------\n",
      "Traceback (most recent call last):\n",
      "  File \"C:\\Users\\sounak\\AppData\\Local\\Temp\\ipykernel_25948\\2665956550.py\", line 10, in test_tires_should_be_serviced\n",
      "    check_tire = OctoprimeTires(tire_status)\n",
      "TypeError: Can't instantiate abstract class OctoprimeTires with abstract methods needs_service\n",
      "\n",
      "----------------------------------------------------------------------\n",
      "Ran 1 test in 0.003s\n",
      "\n",
      "FAILED (errors=1)\n"
     ]
    },
    {
     "ename": "SystemExit",
     "evalue": "True",
     "output_type": "error",
     "traceback": [
      "An exception has occurred, use %tb to see the full traceback.\n",
      "\u001b[1;31mSystemExit\u001b[0m\u001b[1;31m:\u001b[0m True\n"
     ]
    },
    {
     "name": "stderr",
     "output_type": "stream",
     "text": [
      "C:\\Users\\sounak\\Anaconda3\\lib\\site-packages\\IPython\\core\\interactiveshell.py:3465: UserWarning: To exit: use 'exit', 'quit', or Ctrl-D.\n",
      "  warn(\"To exit: use 'exit', 'quit', or Ctrl-D.\", stacklevel=1)\n"
     ]
    }
   ],
   "source": [
    "import unittest\n",
    "from car import Car\n",
    "\n",
    "from octoprime_tires import OctoprimeTires\n",
    "\n",
    "\n",
    "class TestCarrigan(unittest.TestCase):\n",
    "    def test_tires_should_be_serviced(self):\n",
    "        tire_status = [0.6,0.7,0.8,0.9]\n",
    "        check_tire = OctoprimeTires(tire_status)\n",
    "        \n",
    "        self.assertTrue(check_tire.tires_should_be_serviced())\n",
    "\n",
    "#     def test_battery_should_not_be_serviced(self):\n",
    "#         today = datetime.today().date()\n",
    "#         last_service_date = today.replace(year=today.year - 1)\n",
    "#         current_mileage = 0\n",
    "#         last_service_mileage = 0\n",
    "\n",
    "#         car = Calliope(last_service_date, current_mileage, last_service_mileage)\n",
    "#         self.assertFalse(car.needs_service())\n",
    "        \n",
    "if __name__ == '__main__':\n",
    "    unittest.main(argv=['first-arg-is-ignored'])\n"
   ]
  },
  {
   "cell_type": "code",
   "execution_count": 10,
   "id": "664de754",
   "metadata": {},
   "outputs": [
    {
     "ename": "ImportError",
     "evalue": "cannot import name 'CarriganTires' from 'carrigan_tires' (D:\\Lyft Internship\\carServiceSystem\\tire\\carrigan_tires.py)",
     "output_type": "error",
     "traceback": [
      "\u001b[1;31m---------------------------------------------------------------------------\u001b[0m",
      "\u001b[1;31mImportError\u001b[0m                               Traceback (most recent call last)",
      "\u001b[1;32m~\\AppData\\Local\\Temp\\ipykernel_25948\\1227584189.py\u001b[0m in \u001b[0;36m<module>\u001b[1;34m\u001b[0m\n\u001b[0;32m      1\u001b[0m \u001b[1;32mfrom\u001b[0m \u001b[0moctoprime_tires\u001b[0m \u001b[1;32mimport\u001b[0m \u001b[0mOctoprimeTires\u001b[0m\u001b[1;33m\u001b[0m\u001b[1;33m\u001b[0m\u001b[0m\n\u001b[1;32m----> 2\u001b[1;33m \u001b[1;32mfrom\u001b[0m \u001b[0mcarrigan_tires\u001b[0m \u001b[1;32mimport\u001b[0m \u001b[0mCarriganTires\u001b[0m\u001b[1;33m\u001b[0m\u001b[1;33m\u001b[0m\u001b[0m\n\u001b[0m",
      "\u001b[1;31mImportError\u001b[0m: cannot import name 'CarriganTires' from 'carrigan_tires' (D:\\Lyft Internship\\carServiceSystem\\tire\\carrigan_tires.py)"
     ]
    }
   ],
   "source": [
    "from octoprime_tires import OctoprimeTires\n",
    "from carrigan_tires import CarriganTires"
   ]
  },
  {
   "cell_type": "code",
   "execution_count": null,
   "id": "bb31b5c6",
   "metadata": {},
   "outputs": [],
   "source": []
  }
 ],
 "metadata": {
  "kernelspec": {
   "display_name": "Python 3 (ipykernel)",
   "language": "python",
   "name": "python3"
  },
  "language_info": {
   "codemirror_mode": {
    "name": "ipython",
    "version": 3
   },
   "file_extension": ".py",
   "mimetype": "text/x-python",
   "name": "python",
   "nbconvert_exporter": "python",
   "pygments_lexer": "ipython3",
   "version": "3.7.3"
  }
 },
 "nbformat": 4,
 "nbformat_minor": 5
}
