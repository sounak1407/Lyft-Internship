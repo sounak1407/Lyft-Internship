{
 "cells": [
  {
   "cell_type": "code",
   "execution_count": null,
   "id": "50b6aede",
   "metadata": {},
   "outputs": [],
   "source": [
    "from abc import ABC\n",
    "from car import Car\n",
    "\n",
    "\n",
    "class CarriganTires(Car, ABC):\n",
    "    def __init__(self, tire_status):\n",
    "        super().__init__(last_service_date)\n",
    "        self.tire_status = tire_status\n",
    "\n",
    "    def tires_should_be_serviced(self):\n",
    "        return max(tire_status) >= 0.9\n"
   ]
  },
  {
   "cell_type": "code",
   "execution_count": 5,
   "id": "6a73c719",
   "metadata": {},
   "outputs": [
    {
     "data": {
      "text/plain": [
       "True"
      ]
     },
     "execution_count": 5,
     "metadata": {},
     "output_type": "execute_result"
    }
   ],
   "source": [
    "def check_tires(tire_status):\n",
    "    return sum(tire_status)>=3\n",
    "\n",
    "tire_status = [0.7,0.8,0.7,0.9]\n",
    "\n",
    "check_tires(tire_status)\n"
   ]
  },
  {
   "cell_type": "code",
   "execution_count": null,
   "id": "f25293d9",
   "metadata": {},
   "outputs": [],
   "source": [
    "from abc import ABC\n",
    "from car import Car\n",
    "\n",
    "\n",
    "class OctoprimeTires(Car, ABC):\n",
    "    def __init__(self, tire_status):\n",
    "        super().__init__(last_service_date)\n",
    "        self.tire_status = tire_status\n",
    "\n",
    "    def tires_should_be_serviced(self):\n",
    "        return sum(tire_status) >= 3"
   ]
  }
 ],
 "metadata": {
  "kernelspec": {
   "display_name": "Python 3 (ipykernel)",
   "language": "python",
   "name": "python3"
  },
  "language_info": {
   "codemirror_mode": {
    "name": "ipython",
    "version": 3
   },
   "file_extension": ".py",
   "mimetype": "text/x-python",
   "name": "python",
   "nbconvert_exporter": "python",
   "pygments_lexer": "ipython3",
   "version": "3.7.3"
  }
 },
 "nbformat": 4,
 "nbformat_minor": 5
}
