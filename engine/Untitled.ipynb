{
 "cells": [
  {
   "cell_type": "code",
   "execution_count": 1,
   "id": "46c032ef",
   "metadata": {},
   "outputs": [],
   "source": [
    "from abc import ABC\n",
    "\n",
    "from car import Car\n",
    "\n",
    "\n",
    "class CapuletEngine(Car, ABC):\n",
    "    def __init__(self, last_service_date, current_mileage, last_service_mileage):\n",
    "        super().__init__(last_service_date)\n",
    "        self.current_mileage = current_mileage\n",
    "        self.last_service_mileage = last_service_mileage\n",
    "\n",
    "    def engine_should_be_serviced(self):\n",
    "        return self.current_mileage - self.last_service_mileage > 30000"
   ]
  },
  {
   "cell_type": "code",
   "execution_count": null,
   "id": "ee1aee8e",
   "metadata": {},
   "outputs": [],
   "source": []
  }
 ],
 "metadata": {
  "kernelspec": {
   "display_name": "Python 3 (ipykernel)",
   "language": "python",
   "name": "python3"
  },
  "language_info": {
   "codemirror_mode": {
    "name": "ipython",
    "version": 3
   },
   "file_extension": ".py",
   "mimetype": "text/x-python",
   "name": "python",
   "nbconvert_exporter": "python",
   "pygments_lexer": "ipython3",
   "version": "3.7.3"
  }
 },
 "nbformat": 4,
 "nbformat_minor": 5
}
